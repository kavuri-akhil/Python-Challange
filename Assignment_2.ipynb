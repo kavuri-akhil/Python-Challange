{
 "cells": [
  {
   "cell_type": "code",
   "execution_count": 12,
   "id": "94f45a68-fe36-4377-bf2a-5bed6749d978",
   "metadata": {},
   "outputs": [],
   "source": [
    "# Importing Path from Path library\n",
    "from pathlib import Path\n",
    "# Importing CSV library\n",
    "import csv"
   ]
  },
  {
   "cell_type": "code",
   "execution_count": 13,
   "id": "e08a93c0-32b1-46f7-a1b1-7e50f5924ae6",
   "metadata": {},
   "outputs": [],
   "source": [
    "#Saving the path of the file as text\n",
    "csvpath = Path(\"./budget_data.csv\")"
   ]
  },
  {
   "cell_type": "code",
   "execution_count": 14,
   "id": "3a503be3-4ee8-4f6f-a4a7-135d093096fe",
   "metadata": {},
   "outputs": [
    {
     "name": "stdout",
     "output_type": "stream",
     "text": [
      "       Date  Profit/Losses\n",
      "0  Jan-2010         867884\n",
      "1  Feb-2010         984655\n",
      "2  Mar-2010         322013\n",
      "3  Apr-2010         -69417\n",
      "4  May-2010         310503\n"
     ]
    }
   ],
   "source": [
    "#Importing pandas library as pd\n",
    "import pandas as pd\n",
    "#Reading CSV file into a data frame named DF\n",
    "df = pd.read_csv('budget_data.csv', delimiter=',')\n",
    "# Creating a list named list of csv and saving every data point into the list\n",
    "list_of_csv = [list(row) for row in df.values]\n",
    "#Printing the top 5 data points of Dates and Profits/losses\n",
    "print(df.head(5))\n"
   ]
  },
  {
   "cell_type": "code",
   "execution_count": 15,
   "id": "d2280619-deae-4639-afb6-0e573320e3b8",
   "metadata": {},
   "outputs": [
    {
     "name": "stdout",
     "output_type": "stream",
     "text": [
      "The total number of months are 86\n"
     ]
    }
   ],
   "source": [
    "#Calaulating the total number of months in the data frame\n",
    "total_number_of_months = df['Date'].count()\n",
    "#Printing the total number of months in the data frame\n",
    "print(f'The total number of months are',total_number_of_months)"
   ]
  },
  {
   "cell_type": "code",
   "execution_count": 16,
   "id": "16068eed-ca3b-4a12-a49e-f2a27dadeea5",
   "metadata": {},
   "outputs": [],
   "source": [
    "#Calculating the total of profit and losses\n",
    "total_profit_and_loss = df['Profit/Losses'].sum()"
   ]
  },
  {
   "cell_type": "code",
   "execution_count": 17,
   "id": "32d7eea6-6599-4ed5-bf97-14a0a0e22a72",
   "metadata": {},
   "outputs": [
    {
     "name": "stdout",
     "output_type": "stream",
     "text": [
      "The total of profit and losses is $ 38382578\n"
     ]
    }
   ],
   "source": [
    "#Printing the total of profit and losses\n",
    "print(f'The total of profit and losses is $',total_profit_and_loss)"
   ]
  },
  {
   "cell_type": "code",
   "execution_count": 38,
   "id": "826eb916-fa48-4182-854a-d10c5fec988e",
   "metadata": {},
   "outputs": [
    {
     "name": "stdout",
     "output_type": "stream",
     "text": [
      "Average change: -2315.12\n"
     ]
    }
   ],
   "source": [
    "#Calculating the difference between the data points in the data frame using diff method with a period of 1.\n",
    "change = df['Profit/Losses'].diff(periods=1)\n",
    "#Adding the change as a column to the data frame\n",
    "df['change'] = change\n",
    "#Calculating the average change using mean function\n",
    "average_change = df['change'].mean()\n",
    "#Decreaseing the average change to \n",
    "average_change = round(average_change,2)\n",
    "#Printing the average change between profit/losses\n",
    "print(\"Average change:\",average_change)"
   ]
  },
  {
   "cell_type": "code",
   "execution_count": 43,
   "id": "0221f269-ca97-4ef8-93a2-2c1ae860f5d5",
   "metadata": {},
   "outputs": [],
   "source": [
    "#Calculating the highest increase in the profits by month\n",
    "greatest_increase_in_profits = df.sort_values(by=[\"Date\", \"change\"],ascending=False)[[\"Date\", \"change\"]]"
   ]
  },
  {
   "cell_type": "code",
   "execution_count": 44,
   "id": "8d455deb-27be-4108-88ab-d92e60070533",
   "metadata": {},
   "outputs": [
    {
     "name": "stdout",
     "output_type": "stream",
     "text": [
      "Greatest Increase in Profits:         Date    change\n",
      "80  Sep-2016  198551.0\n"
     ]
    }
   ],
   "source": [
    "#Printing the greatest increase in profits\n",
    "print(f'Greatest Increase in Profits:',greatest_increase_in_profits.head(1))"
   ]
  },
  {
   "cell_type": "code",
   "execution_count": 45,
   "id": "bc3242cb-7948-4dd4-8610-93792bd608f0",
   "metadata": {},
   "outputs": [],
   "source": [
    "#Calculating the highest decrease in the profits by month\n",
    "greatest_decrease_in_profits = df.sort_values(by=[\"Date\", \"variance\"],ascending=True)[[\"Date\", \"variance\"]]"
   ]
  },
  {
   "cell_type": "code",
   "execution_count": 46,
   "id": "3d2b5c23-f878-44fb-b9d3-3334a6124557",
   "metadata": {},
   "outputs": [
    {
     "name": "stdout",
     "output_type": "stream",
     "text": [
      "Greatest Decrease in Profits:        Date  variance\n",
      "3  Apr-2010 -391430.0\n"
     ]
    }
   ],
   "source": [
    "#Printing the greatest dectrase in profits\n",
    "print(f'Greatest Decrease in Profits:',greatest_decrease_in_profits.head(1))"
   ]
  },
  {
   "cell_type": "code",
   "execution_count": null,
   "id": "4d701f49-53fe-4b81-b55b-9fa75e12e0bc",
   "metadata": {},
   "outputs": [],
   "source": []
  },
  {
   "cell_type": "code",
   "execution_count": null,
   "id": "e6627758-bafc-47e2-aa2b-42311e7666e3",
   "metadata": {},
   "outputs": [],
   "source": []
  }
 ],
 "metadata": {
  "kernelspec": {
   "display_name": "Python 3 (ipykernel)",
   "language": "python",
   "name": "python3"
  },
  "language_info": {
   "codemirror_mode": {
    "name": "ipython",
    "version": 3
   },
   "file_extension": ".py",
   "mimetype": "text/x-python",
   "name": "python",
   "nbconvert_exporter": "python",
   "pygments_lexer": "ipython3",
   "version": "3.7.13"
  }
 },
 "nbformat": 4,
 "nbformat_minor": 5
}
